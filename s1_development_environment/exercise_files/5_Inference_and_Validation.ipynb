{
 "cells": [
  {
   "cell_type": "markdown",
   "metadata": {},
   "source": [
    "# Inference and Validation\n",
    "\n",
    "Now that you have a trained network, you can use it for making predictions. This is typically called **inference**, a term borrowed from statistics. However, neural networks have a tendency to perform *too well* on the training data and aren't able to generalize to data that hasn't been seen before. This is called **overfitting** and it impairs inference performance. To test for overfitting while training, we measure the performance on data not in the training set called the **validation** set. We avoid overfitting through regularization such as dropout while monitoring the validation performance during training. In this notebook, I'll show you how to do this in PyTorch. \n",
    "\n",
    "As usual, let's start by loading the dataset through torchvision. You'll learn more about torchvision and loading data in a later part. This time we'll be taking advantage of the test set which you can get by setting `train=False` here:\n",
    "\n",
    "```python\n",
    "testset = datasets.FashionMNIST('~/.pytorch/F_MNIST_data/', download=True, train=False, transform=transform)\n",
    "```\n",
    "\n",
    "The test set contains images just like the training set. Typically you'll see 10-20% of the original dataset held out for testing and validation with the rest being used for training."
   ]
  },
  {
   "cell_type": "code",
   "execution_count": 19,
   "metadata": {},
   "outputs": [],
   "source": [
    "import torch\n",
    "from torchvision import datasets, transforms\n",
    "\n",
    "# Define a transform to normalize the data\n",
    "transform = transforms.Compose([transforms.ToTensor(), transforms.Normalize((0.5,), (0.5,))])\n",
    "# Download and load the training data\n",
    "trainset = datasets.FashionMNIST(\"~/.pytorch/F_MNIST_data/\", download=True, train=True, transform=transform)\n",
    "trainloader = torch.utils.data.DataLoader(trainset, batch_size=64, shuffle=True)\n",
    "\n",
    "# Download and load the test data\n",
    "testset = datasets.FashionMNIST(\"~/.pytorch/F_MNIST_data/\", download=True, train=False, transform=transform)\n",
    "testloader = torch.utils.data.DataLoader(testset, batch_size=64, shuffle=True)"
   ]
  },
  {
   "cell_type": "markdown",
   "metadata": {},
   "source": [
    "Here I'll create a model like normal, using the same one from my solution for part 4."
   ]
  },
  {
   "cell_type": "code",
   "execution_count": 20,
   "metadata": {},
   "outputs": [],
   "source": [
    "from torch import nn, optim\n",
    "from torch.nn.functional import log_softmax, relu\n",
    "\n",
    "\n",
    "class Classifier(nn.Module):\n",
    "    \"\"\"Classifier network with dropout.\"\"\"\n",
    "\n",
    "    def __init__(self) -> None:\n",
    "        super().__init__()\n",
    "        self.fc1 = nn.Linear(784, 256)\n",
    "        self.fc2 = nn.Linear(256, 128)\n",
    "        self.fc3 = nn.Linear(128, 64)\n",
    "        self.fc4 = nn.Linear(64, 10)\n",
    "\n",
    "    def forward(self, x):\n",
    "        \"\"\"Forward pass through the network, returns the output logits.\"\"\"\n",
    "        # make sure input tensor is flattened\n",
    "        x = x.view(x.shape[0], -1)\n",
    "\n",
    "        x = relu(self.fc1(x))\n",
    "        x = relu(self.fc2(x))\n",
    "        x = relu(self.fc3(x))\n",
    "        return log_softmax(self.fc4(x), dim=1)"
   ]
  },
  {
   "cell_type": "markdown",
   "metadata": {},
   "source": [
    "The goal of validation is to measure the model's performance on data that isn't part of the training set. Performance here is up to the developer to define though. Typically this is just accuracy, the percentage of classes the network predicted correctly. Other options are [precision and recall](https://en.wikipedia.org/wiki/Precision_and_recall#Definition_(classification_context)) and top-5 error rate. We'll focus on accuracy here. First I'll do a forward pass with one batch from the test set."
   ]
  },
  {
   "cell_type": "code",
   "execution_count": 21,
   "metadata": {},
   "outputs": [
    {
     "name": "stdout",
     "output_type": "stream",
     "text": [
      "torch.Size([64, 10])\n"
     ]
    }
   ],
   "source": [
    "model = Classifier()\n",
    "\n",
    "images, labels = next(iter(testloader))\n",
    "# Get the class probabilities\n",
    "ps = torch.exp(model(images))\n",
    "# Make sure the shape is appropriate, we should get 10 class probabilities for 64 examples\n",
    "print(ps.shape)"
   ]
  },
  {
   "cell_type": "markdown",
   "metadata": {},
   "source": [
    "With the probabilities, we can get the most likely class using the `ps.topk` method. This returns the $k$ highest values. Since we just want the most likely class, we can use `ps.topk(1)`. This returns a tuple of the top-$k$ values and the top-$k$ indices. If the highest value is the fifth element, we'll get back 4 as the index."
   ]
  },
  {
   "cell_type": "code",
   "execution_count": 22,
   "metadata": {},
   "outputs": [
    {
     "name": "stdout",
     "output_type": "stream",
     "text": [
      "tensor([[9],\n",
      "        [4],\n",
      "        [4],\n",
      "        [4],\n",
      "        [1],\n",
      "        [4],\n",
      "        [4],\n",
      "        [4],\n",
      "        [2],\n",
      "        [4]])\n"
     ]
    }
   ],
   "source": [
    "top_p, top_class = ps.topk(1, dim=1)\n",
    "# Look at the most likely classes for the first 10 examples\n",
    "print(top_class[:10, :])"
   ]
  },
  {
   "cell_type": "markdown",
   "metadata": {},
   "source": [
    "Now we can check if the predicted classes match the labels. This is simple to do by equating `top_class` and `labels`, but we have to be careful of the shapes. Here `top_class` is a 2D tensor with shape `(64, 1)` while `labels` is 1D with shape `(64)`. To get the equality to work out the way we want, `top_class` and `labels` must have the same shape.\n",
    "\n",
    "If we do\n",
    "\n",
    "```python\n",
    "equals = top_class == labels\n",
    "```\n",
    "\n",
    "`equals` will have shape `(64, 64)`, try it yourself. What it's doing is comparing the one element in each row of `top_class` with each element in `labels` which returns 64 True/False boolean values for each row. To avoid this, we use the `.view` method on `labels` to turn it into the same shape as `top_class`. (The `*top_class.shape` unpacks the shape values, so in this case it's the same as writing `labels.view(64, 1)`)."
   ]
  },
  {
   "cell_type": "code",
   "execution_count": 34,
   "metadata": {},
   "outputs": [],
   "source": [
    "equals = top_class == labels.view(*top_class.shape)"
   ]
  },
  {
   "cell_type": "markdown",
   "metadata": {},
   "source": [
    "Now we need to calculate the percentage of correct predictions. `equals` has binary values, either 0 or 1. This means that if we just sum up all the values and divide by the number of values, we get the percentage of correct predictions. This is the same operation as taking the mean, so we can get the accuracy with a call to `torch.mean`. If only it was that simple. If you try `torch.mean(equals)`, you'll get an error\n",
    "\n",
    "```\n",
    "RuntimeError: mean is not implemented for type torch.ByteTensor\n",
    "```\n",
    "\n",
    "This happens because `equals` has type `torch.ByteTensor` but `torch.mean` isn't implemented for tensors with that type. So we'll need to convert `equals` to a float tensor. Note that when we take `torch.mean` it returns a scalar tensor, to get the actual value as a float we'll need to do `accuracy.item()`."
   ]
  },
  {
   "cell_type": "code",
   "execution_count": 27,
   "metadata": {},
   "outputs": [
    {
     "name": "stdout",
     "output_type": "stream",
     "text": [
      "Accuracy: 10.9375%\n"
     ]
    }
   ],
   "source": [
    "accuracy = torch.mean(equals.type(torch.FloatTensor))\n",
    "print(f\"Accuracy: {accuracy.item() * 100}%\")"
   ]
  },
  {
   "cell_type": "markdown",
   "metadata": {},
   "source": [
    "The network is untrained so it's making random guesses and we should see an accuracy around 10%. Now let's train our network and include our validation pass so we can measure how well the network is performing on the test set. Since we're not updating our parameters in the validation pass, we can speed up our code by turning off gradients using `torch.no_grad()`:\n",
    "\n",
    "```python\n",
    "# turn off gradients\n",
    "with torch.no_grad():\n",
    "    # validation pass here\n",
    "    for images, labels in testloader:\n",
    "        ...\n",
    "```\n",
    "\n",
    ">**Exercise:** Implement the validation loop below and print out the total accuracy after the loop. You can largely copy and paste the code from above, but I suggest typing it in because writing it out yourself is essential for building the skill. In general you'll always learn more by typing it rather than copy-pasting. You should be able to get an accuracy above 80%."
   ]
  },
  {
   "cell_type": "code",
   "execution_count": 40,
   "metadata": {},
   "outputs": [
    {
     "name": "stdout",
     "output_type": "stream",
     "text": [
      "Train loss in epoch 1 : 0.5198538938660358\n",
      "Test loss in epoch 1 : 0.499215907921457\n",
      "Train loss in epoch 2 : 0.3944448899231486\n",
      "Test loss in epoch 2 : 0.3986823461048163\n",
      "Train loss in epoch 3 : 0.3537266574212229\n",
      "Test loss in epoch 3 : 0.39196292628907853\n",
      "Train loss in epoch 4 : 0.3331633863815748\n",
      "Test loss in epoch 4 : 0.3677971071688233\n",
      "Train loss in epoch 5 : 0.3173563781259919\n",
      "Test loss in epoch 5 : 0.36493193268016644\n",
      "Train loss in epoch 6 : 0.30355174556724046\n",
      "Test loss in epoch 6 : 0.38349955362878785\n",
      "Train loss in epoch 7 : 0.2900983198269852\n",
      "Test loss in epoch 7 : 0.37017288234583134\n",
      "Train loss in epoch 8 : 0.28124500849226647\n",
      "Test loss in epoch 8 : 0.3550445576002643\n",
      "Train loss in epoch 9 : 0.27300371590263045\n",
      "Test loss in epoch 9 : 0.3689157960900835\n",
      "Train loss in epoch 10 : 0.2663584980311424\n",
      "Test loss in epoch 10 : 0.3746124205600684\n",
      "Train loss in epoch 11 : 0.2587986990515548\n",
      "Test loss in epoch 11 : 0.3724917698248177\n",
      "Train loss in epoch 12 : 0.2496779974399091\n",
      "Test loss in epoch 12 : 0.35858812956673325\n",
      "Train loss in epoch 13 : 0.24688480804755744\n",
      "Test loss in epoch 13 : 0.3727069957430955\n",
      "Train loss in epoch 14 : 0.24473362454155614\n",
      "Test loss in epoch 14 : 0.36459318467765855\n",
      "Train loss in epoch 15 : 0.23774776755492572\n",
      "Test loss in epoch 15 : 0.3763758263248167\n",
      "Train loss in epoch 16 : 0.23235381365235427\n",
      "Test loss in epoch 16 : 0.3605133117574036\n",
      "Train loss in epoch 17 : 0.22948725400035824\n",
      "Test loss in epoch 17 : 0.35889880102910815\n",
      "Train loss in epoch 18 : 0.22692933673066878\n",
      "Test loss in epoch 18 : 0.3717076300530677\n",
      "Train loss in epoch 19 : 0.2220540053324341\n",
      "Test loss in epoch 19 : 0.36876182813363473\n",
      "Train loss in epoch 20 : 0.216284399431175\n",
      "Test loss in epoch 20 : 0.38877932694117734\n",
      "Train loss in epoch 21 : 0.216366046555102\n",
      "Test loss in epoch 21 : 0.3932381079644914\n",
      "Train loss in epoch 22 : 0.21187958330599102\n",
      "Test loss in epoch 22 : 0.39023359940879665\n",
      "Train loss in epoch 23 : 0.20426190434011823\n",
      "Test loss in epoch 23 : 0.4110620716574845\n",
      "Train loss in epoch 24 : 0.20579730343621677\n",
      "Test loss in epoch 24 : 0.41139868998033985\n",
      "Train loss in epoch 25 : 0.20312114613952795\n",
      "Test loss in epoch 25 : 0.39069120528971313\n",
      "Train loss in epoch 26 : 0.19088005573590044\n",
      "Test loss in epoch 26 : 0.4055064285446884\n",
      "Train loss in epoch 27 : 0.19600119919919257\n",
      "Test loss in epoch 27 : 0.40302115517437076\n",
      "Train loss in epoch 28 : 0.19052319820604915\n",
      "Test loss in epoch 28 : 0.397859497434774\n",
      "Train loss in epoch 29 : 0.18228059582340755\n",
      "Test loss in epoch 29 : 0.4610809717493452\n",
      "Train loss in epoch 30 : 0.18999566356224545\n",
      "Test loss in epoch 30 : 0.40925450509141204\n"
     ]
    }
   ],
   "source": [
    "model = Classifier()\n",
    "criterion = nn.NLLLoss()\n",
    "optimizer = optim.Adam(model.parameters(), lr=0.003)\n",
    "\n",
    "epochs = 30\n",
    "steps = 0\n",
    "\n",
    "train_losses, test_losses, accuracy_list = [], [], []\n",
    "for _ in range(epochs):\n",
    "    running_loss = 0\n",
    "    for images, labels in trainloader:\n",
    "        optimizer.zero_grad()\n",
    "\n",
    "        log_ps = model(images)\n",
    "        loss = criterion(log_ps, labels)\n",
    "        loss.backward()\n",
    "        optimizer.step()\n",
    "\n",
    "        running_loss += loss.item()\n",
    "    print(f\"Train loss in epoch {_+1} : {running_loss/len(trainloader)}\")\n",
    "    train_losses.append(running_loss/len(trainloader))\n",
    "\n",
    "\n",
    "    ## TODO: Implement the validation pass and print out the validation accuracy\n",
    "    with torch.no_grad():\n",
    "        running_loss = 0\n",
    "        for images, labels in testloader:\n",
    "            log_ps = model(images)\n",
    "            loss = criterion(log_ps, labels)\n",
    "            running_loss += loss.item()   \n",
    "            \n",
    "            ps = torch.exp(log_ps)\n",
    "            top_p, top_class = ps.topk(1, dim=1)\n",
    "            equals = labels == top_class.view(labels.shape)\n",
    "            accuracy = torch.mean(equals.type(torch.FloatTensor))\n",
    "            accuracy_list.append(accuracy.item() * 100)\n",
    "        print(f\"Test loss in epoch {_+1} : {running_loss/len(testloader)}\")\n",
    "        test_losses.append(running_loss/len(testloader))"
   ]
  },
  {
   "cell_type": "code",
   "execution_count": 51,
   "metadata": {},
   "outputs": [
    {
     "name": "stdout",
     "output_type": "stream",
     "text": [
      "Accuracy : 87.36697186836518\n"
     ]
    },
    {
     "data": {
      "image/png": "[encoded data removed]",
      "text/plain": [
       "<Figure size 640x480 with 1 Axes>"
      ]
     },
     "metadata": {},
     "output_type": "display_data"
    }
   ],
   "source": [
    "import statistics\n",
    "import matplotlib.pyplot as plt\n",
    "print(f\"Accuracy : {statistics.mean(accuracy_list)}\")\n",
    "\n",
    "# Plot both on the same graph\n",
    "plt.plot( train_losses, label='Training Loss', color='blue')\n",
    "plt.plot(test_losses, label='Validation Loss', color='red')\n",
    "\n",
    "# Add labels and legend\n",
    "plt.xlabel('Epoch')\n",
    "plt.ylabel('Loss')\n",
    "plt.title('Overfitting Example')\n",
    "plt.legend()\n",
    "\n",
    "# Show the plot\n",
    "plt.show()"
   ]
  },
  {
   "cell_type": "markdown",
   "metadata": {},
   "source": [
    "## Overfitting\n",
    "\n",
    "If we look at the training and validation losses as we train the network, we can see a phenomenon known as overfitting.\n",
    "\n",
    "<img src='assets/overfitting.png' width=450px>\n",
    "\n",
    "The network learns the training set better and better, resulting in lower training losses. However, it starts having problems generalizing to data outside the training set leading to the validation loss increasing. The ultimate goal of any deep learning model is to make predictions on new data, so we should strive to get the lowest validation loss possible. One option is to use the version of the model with the lowest validation loss, here the one around 8-10 training epochs. This strategy is called *early-stopping*. In practice, you'd save the model frequently as you're training then later choose the model with the lowest validation loss.\n",
    "\n",
    "The most common method to reduce overfitting (outside of early-stopping) is *dropout*, where we randomly drop input units. This forces the network to share information between weights, increasing it's ability to generalize to new data. Adding dropout in PyTorch is straightforward using the [`nn.Dropout`](https://pytorch.org/docs/stable/nn.html#torch.nn.Dropout) module.\n",
    "\n",
    "```python\n",
    "class Classifier(nn.Module):\n",
    "    \"\"\"Classifier network with dropout.\"\"\"\n",
    "    def __init__(self):\n",
    "        super().__init__()\n",
    "        self.fc1 = nn.Linear(784, 256)\n",
    "        self.fc2 = nn.Linear(256, 128)\n",
    "        self.fc3 = nn.Linear(128, 64)\n",
    "        self.fc4 = nn.Linear(64, 10)\n",
    "        \n",
    "        # Dropout module with 0.2 drop probability\n",
    "        self.dropout = nn.Dropout(p=0.2)\n",
    "        \n",
    "    def forward(self, x):\n",
    "        \"\"\" Forward pass through the network, returns the output logits.\"\"\"\n",
    "        # make sure input tensor is flattened\n",
    "        x = x.view(x.shape[0], -1)\n",
    "        \n",
    "        # Now with dropout\n",
    "        x = self.dropout(F.relu(self.fc1(x)))\n",
    "        x = self.dropout(F.relu(self.fc2(x)))\n",
    "        x = self.dropout(F.relu(self.fc3(x)))\n",
    "        \n",
    "        # output so no dropout here\n",
    "        x = F.log_softmax(self.fc4(x), dim=1)\n",
    "        \n",
    "        return x\n",
    "```\n",
    "\n",
    "During training we want to use dropout to prevent overfitting, but during inference we want to use the entire network. So, we need to turn off dropout during validation, testing, and whenever we're using the network to make predictions. To do this, you use `model.eval()`. This sets the model to evaluation mode where the dropout probability is 0. You can turn dropout back on by setting the model to train mode with `model.train()`. In general, the pattern for the validation loop will look like this, where you turn off gradients, set the model to evaluation mode, calculate the validation loss and metric, then set the model back to train mode.\n",
    "\n",
    "```python\n",
    "# turn off gradients\n",
    "with torch.no_grad():\n",
    "    \n",
    "    # set model to evaluation mode\n",
    "    model.eval()\n",
    "    \n",
    "    # validation pass here\n",
    "    for images, labels in testloader:\n",
    "        ...\n",
    "\n",
    "# set model back to train mode\n",
    "model.train()\n",
    "```"
   ]
  },
  {
   "cell_type": "markdown",
   "metadata": {},
   "source": [
    "> **Exercise:** Add dropout to your model and train it on Fashion-MNIST again. See if you can get a lower validation loss or higher accuracy."
   ]
  },
  {
   "cell_type": "code",
   "execution_count": 52,
   "metadata": {},
   "outputs": [],
   "source": [
    "## TODO: Define your model with dropout added\n",
    "class ClassifierWithDropout(nn.Module):\n",
    "    \"\"\"Classifier network with dropout.\"\"\"\n",
    "\n",
    "    def __init__(self) -> None:\n",
    "        super().__init__()\n",
    "        self.fc1 = nn.Linear(784, 256)\n",
    "        self.fc2 = nn.Linear(256, 128)\n",
    "        self.fc3 = nn.Linear(128, 64)\n",
    "        self.fc4 = nn.Linear(64, 10)\n",
    "\n",
    "        self.dropout = nn.Dropout(p=0.2)\n",
    "\n",
    "    def forward(self, x):\n",
    "        \"\"\"Forward pass through the network, returns the output logits.\"\"\"\n",
    "        # make sure input tensor is flattened\n",
    "        x = x.view(x.shape[0], -1)\n",
    "\n",
    "        x = self.dropout(relu(self.fc1(x)))\n",
    "        x = self.dropout(relu(self.fc2(x)))\n",
    "        x = self.dropout(relu(self.fc3(x)))\n",
    "        return log_softmax(self.fc4(x), dim=1)"
   ]
  },
  {
   "cell_type": "code",
   "execution_count": 53,
   "metadata": {},
   "outputs": [
    {
     "name": "stdout",
     "output_type": "stream",
     "text": [
      "Train loss in epoch 1 : 0.6132746460214098\n",
      "Test loss in epoch 1 : 0.49123650238772104\n",
      "Train loss in epoch 2 : 0.48752611248033134\n",
      "Test loss in epoch 2 : 0.42454600429079337\n",
      "Train loss in epoch 3 : 0.45464853008291617\n",
      "Test loss in epoch 3 : 0.43051084724201516\n",
      "Train loss in epoch 4 : 0.43624518976918164\n",
      "Test loss in epoch 4 : 0.428259336549765\n",
      "Train loss in epoch 5 : 0.4249879982965841\n",
      "Test loss in epoch 5 : 0.4107910992613264\n",
      "Train loss in epoch 6 : 0.4149062507061053\n",
      "Test loss in epoch 6 : 0.3937664442950753\n",
      "Train loss in epoch 7 : 0.4087180883518414\n",
      "Test loss in epoch 7 : 0.40686095890345847\n",
      "Train loss in epoch 8 : 0.39719394046360496\n",
      "Test loss in epoch 8 : 0.41672289105737287\n",
      "Train loss in epoch 9 : 0.3956522561434998\n",
      "Test loss in epoch 9 : 0.4109575818678376\n",
      "Train loss in epoch 10 : 0.3885794543285868\n",
      "Test loss in epoch 10 : 0.39384623223049625\n",
      "Train loss in epoch 11 : 0.39020517767905427\n",
      "Test loss in epoch 11 : 0.38233638815819077\n",
      "Train loss in epoch 12 : 0.38433862208271585\n",
      "Test loss in epoch 12 : 0.37466384793163104\n",
      "Train loss in epoch 13 : 0.37901237012862143\n",
      "Test loss in epoch 13 : 0.37641159957571396\n",
      "Train loss in epoch 14 : 0.37058534635218987\n",
      "Test loss in epoch 14 : 0.4075082736030506\n",
      "Train loss in epoch 15 : 0.37189811144842266\n",
      "Test loss in epoch 15 : 0.39890949798237746\n",
      "Train loss in epoch 16 : 0.3722010950035632\n",
      "Test loss in epoch 16 : 0.38814993278615795\n",
      "Train loss in epoch 17 : 0.3709952723242835\n",
      "Test loss in epoch 17 : 0.4030740476527791\n",
      "Train loss in epoch 18 : 0.3693642640736566\n",
      "Test loss in epoch 18 : 0.39690525061006\n",
      "Train loss in epoch 19 : 0.35915767259276243\n",
      "Test loss in epoch 19 : 0.3742181789248612\n",
      "Train loss in epoch 20 : 0.3627757592829687\n",
      "Test loss in epoch 20 : 0.3807096913172181\n",
      "Train loss in epoch 21 : 0.35934129447094415\n",
      "Test loss in epoch 21 : 0.38228820814828207\n",
      "Train loss in epoch 22 : 0.3494118444446816\n",
      "Test loss in epoch 22 : 0.37990636293106017\n",
      "Train loss in epoch 23 : 0.35163769613641666\n",
      "Test loss in epoch 23 : 0.38157571206806573\n",
      "Train loss in epoch 24 : 0.3509881186412214\n",
      "Test loss in epoch 24 : 0.3726065316397673\n",
      "Train loss in epoch 25 : 0.3475552205719165\n",
      "Test loss in epoch 25 : 0.37178694632402653\n",
      "Train loss in epoch 26 : 0.34691784618251614\n",
      "Test loss in epoch 26 : 0.3874674668167807\n",
      "Train loss in epoch 27 : 0.3542092566106365\n",
      "Test loss in epoch 27 : 0.36525266038574233\n",
      "Train loss in epoch 28 : 0.3441413221900651\n",
      "Test loss in epoch 28 : 0.37782546650072574\n",
      "Train loss in epoch 29 : 0.3394224051711783\n",
      "Test loss in epoch 29 : 0.3855757723758175\n",
      "Train loss in epoch 30 : 0.3459405052159895\n",
      "Test loss in epoch 30 : 0.39506510327196426\n"
     ]
    }
   ],
   "source": [
    "## TODO: Train your model with dropout, and monitor the training progress with the validation loss and accuracy\n",
    "model2 = ClassifierWithDropout()\n",
    "criterion2 = nn.NLLLoss()\n",
    "optimizer2 = optim.Adam(model2.parameters(), lr=0.003)\n",
    "\n",
    "epochs = 30\n",
    "steps = 0\n",
    "\n",
    "train_losses, test_losses, accuracy_list = [], [], []\n",
    "for _ in range(epochs):\n",
    "    running_loss = 0\n",
    "    for images, labels in trainloader:\n",
    "        optimizer2.zero_grad()\n",
    "\n",
    "        log_ps = model2(images)\n",
    "        loss = criterion2(log_ps, labels)\n",
    "        loss.backward()\n",
    "        optimizer2.step()\n",
    "\n",
    "        running_loss += loss.item()\n",
    "    print(f\"Train loss in epoch {_+1} : {running_loss/len(trainloader)}\")\n",
    "    train_losses.append(running_loss/len(trainloader))\n",
    "\n",
    "\n",
    "    ## TODO: Implement the validation pass and print out the validation accuracy\n",
    "    with torch.no_grad():\n",
    "        model2.eval()\n",
    "        running_loss = 0\n",
    "        for images, labels in testloader:\n",
    "            log_ps = model2(images)\n",
    "            loss = criterion2(log_ps, labels)\n",
    "            running_loss += loss.item()   \n",
    "            \n",
    "            ps = torch.exp(log_ps)\n",
    "            top_p, top_class = ps.topk(1, dim=1)\n",
    "            equals = labels == top_class.view(labels.shape)\n",
    "            accuracy = torch.mean(equals.type(torch.FloatTensor))\n",
    "            accuracy_list.append(accuracy.item() * 100)\n",
    "        print(f\"Test loss in epoch {_+1} : {running_loss/len(testloader)}\")\n",
    "        test_losses.append(running_loss/len(testloader))\n",
    "    model2.train()"
   ]
  },
  {
   "cell_type": "code",
   "execution_count": 54,
   "metadata": {},
   "outputs": [
    {
     "name": "stdout",
     "output_type": "stream",
     "text": [
      "Accuracy : 86.23042728237792\n"
     ]
    },
    {
     "data": {
      "image/png": "[encoded data removed]",
      "text/plain": [
       "<Figure size 640x480 with 1 Axes>"
      ]
     },
     "metadata": {},
     "output_type": "display_data"
    }
   ],
   "source": [
    "print(f\"Accuracy : {statistics.mean(accuracy_list)}\")\n",
    "\n",
    "# Plot both on the same graph\n",
    "plt.plot(train_losses, label='Training Loss', color='blue')\n",
    "plt.plot(test_losses, label='Validation Loss', color='red')\n",
    "\n",
    "# Add labels and legend\n",
    "plt.xlabel('Epoch')\n",
    "plt.ylabel('Loss')\n",
    "plt.title('Overfitting Example')\n",
    "plt.legend()\n",
    "\n",
    "# Show the plot\n",
    "plt.show()"
   ]
  },
  {
   "cell_type": "markdown",
   "metadata": {},
   "source": [
    "## Inference\n",
    "\n",
    "Now that the model is trained, we can use it for inference. We've done this before, but now we need to remember to set the model in inference mode with `model.eval()`. You'll also want to turn off autograd with the `torch.no_grad()` context."
   ]
  },
  {
   "cell_type": "code",
   "execution_count": 55,
   "metadata": {},
   "outputs": [
    {
     "data": {
      "image/png": "[encoded data removed]",
      "text/plain": [
       "<Figure size 600x900 with 2 Axes>"
      ]
     },
     "metadata": {},
     "output_type": "display_data"
    }
   ],
   "source": [
    "# Import helper module (should be in the repo)\n",
    "import helper\n",
    "\n",
    "# Test out your network!\n",
    "\n",
    "model.eval()\n",
    "\n",
    "dataiter = iter(testloader)\n",
    "images, labels = next(dataiter)\n",
    "img = images[0]\n",
    "# Convert 2D image to 1D vector\n",
    "img = img.view(1, 784)\n",
    "\n",
    "# Calculate the class probabilities (softmax) for img\n",
    "with torch.no_grad():\n",
    "    output = model.forward(img)\n",
    "\n",
    "ps = torch.exp(output)\n",
    "\n",
    "# Plot the image and probabilities\n",
    "helper.view_classify(img.view(1, 28, 28), ps, version=\"Fashion\")"
   ]
  },
  {
   "cell_type": "markdown",
   "metadata": {},
   "source": [
    "## Next Up!\n",
    "\n",
    "In the next part, I'll show you how to save your trained models. In general, you won't want to train a model every time you need it. Instead, you'll train once, save it, then load the model when you want to train more or use if for inference."
   ]
  }
 ],
 "metadata": {
  "kernelspec": {
   "display_name": "mlops",
   "language": "python",
   "name": "python3"
  },
  "language_info": {
   "codemirror_mode": {
    "name": "ipython",
    "version": 3
   },
   "file_extension": ".py",
   "mimetype": "text/x-python",
   "name": "python",
   "nbconvert_exporter": "python",
   "pygments_lexer": "ipython3",
   "version": "3.12.12"
  }
 },
 "nbformat": 4,
 "nbformat_minor": 2
}
